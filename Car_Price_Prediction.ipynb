{
  "nbformat": 4,
  "nbformat_minor": 0,
  "metadata": {
    "colab": {
      "provenance": []
    },
    "kernelspec": {
      "name": "python3",
      "display_name": "Python 3"
    },
    "language_info": {
      "name": "python"
    }
  },
  "cells": [
    {
      "cell_type": "code",
      "source": [],
      "metadata": {
        "id": "wZTG5k1-InMQ"
      },
      "execution_count": null,
      "outputs": []
    },
    {
      "cell_type": "code",
      "execution_count": 1,
      "metadata": {
        "id": "crw4g3c9yp9b"
      },
      "outputs": [],
      "source": [
        "# Importing necessary libraries\n",
        "import pandas as pd\n",
        "import numpy as np\n",
        "import matplotlib.pyplot as plt\n",
        "import seaborn as sns\n",
        "from sklearn.model_selection import train_test_split\n",
        "from sklearn.linear_model import LinearRegression\n",
        "import pickle as pkl\n"
      ]
    },
    {
      "cell_type": "code",
      "source": [
        "\n",
        "# Load the car details dataset\n",
        "car_data = pd.read_csv('/content/Cardetails.csv')\n",
        "\n"
      ],
      "metadata": {
        "id": "VRz4tCsizJ8y"
      },
      "execution_count": 2,
      "outputs": []
    },
    {
      "cell_type": "code",
      "source": [
        "#Data preprocessing\n",
        "car_data.drop(columns=['torque'], inplace=True)\n",
        "car_data.dropna(inplace=True)\n",
        "car_data.drop_duplicates(inplace=True)\n"
      ],
      "metadata": {
        "id": "WGaiXa2wzRqd"
      },
      "execution_count": 3,
      "outputs": []
    },
    {
      "cell_type": "code",
      "source": [
        "\n",
        "# Data cleaning functions\n",
        "def extract_brand(car_name):\n",
        "    return car_name.split(' ')[0].strip()\n",
        "\n",
        "def clean_value(value):\n",
        "    value = value.split(' ')[0].strip()\n",
        "    if value == '':\n",
        "        value = 0\n",
        "    return float(value)\n"
      ],
      "metadata": {
        "id": "b4Q3-iaAzY7s"
      },
      "execution_count": 4,
      "outputs": []
    },
    {
      "cell_type": "code",
      "source": [
        "\n",
        "# Apply data cleaning functions\n",
        "car_data['name'] = car_data['name'].apply(extract_brand)\n",
        "car_data['mileage'] = car_data['mileage'].apply(clean_value)\n",
        "car_data['max_power'] = car_data['max_power'].apply(clean_value)\n",
        "car_data['engine'] = car_data['engine'].apply(clean_value)\n"
      ],
      "metadata": {
        "id": "9qQ2vUQgzdst"
      },
      "execution_count": 5,
      "outputs": []
    },
    {
      "cell_type": "code",
      "source": [
        "for i in car_data.columns:\n",
        "  print(\"Unique vaules of\"+i)\n",
        "  print(car_data[i].unique())\n",
        "  print(\"---------------------------------------------------------------\")"
      ],
      "metadata": {
        "colab": {
          "base_uri": "https://localhost:8080/"
        },
        "id": "OJHuFaGiHulH",
        "outputId": "3b626861-d156-4da9-cd87-b57c7d2ef01e"
      },
      "execution_count": 6,
      "outputs": [
        {
          "output_type": "stream",
          "name": "stdout",
          "text": [
            "Unique vaules ofname\n",
            "['Maruti' 'Skoda' 'Honda' 'Hyundai' 'Toyota' 'Ford' 'Renault' 'Mahindra'\n",
            " 'Tata' 'Chevrolet' 'Datsun' 'Jeep' 'Mercedes-Benz' 'Mitsubishi' 'Audi'\n",
            " 'Volkswagen' 'BMW' 'Nissan' 'Lexus' 'Jaguar' 'Land' 'MG' 'Volvo' 'Daewoo'\n",
            " 'Kia' 'Fiat' 'Force' 'Ambassador' 'Ashok' 'Isuzu' 'Opel']\n",
            "---------------------------------------------------------------\n",
            "Unique vaules ofyear\n",
            "[2014 2006 2010 2007 2017 2001 2011 2013 2005 2009 2016 2012 2002 2015\n",
            " 2018 2019 2008 2020 1999 2000 2003 2004 1994 1998 1997 1995 1996]\n",
            "---------------------------------------------------------------\n",
            "Unique vaules ofselling_price\n",
            "[  450000   370000   158000   225000   130000   440000    96000    45000\n",
            "   350000   200000   500000    92000   280000   180000   400000   778000\n",
            "   150000   680000   174000   950000   525000   600000   575000   275000\n",
            "   300000   220000   254999   670000   730000   650000   330000   366000\n",
            "  1149000   425000  2100000   925000   675000   819999   390000  1500000\n",
            "   700000  1450000  1090000   850000  1650000  1750000  1590000  1689999\n",
            "  1425000   265000   190000   630000   540000   448000   745000  1025000\n",
            "   235000  1700000  1200000   610000  2500000   484999   315000   290000\n",
            "   455000   351000   535000   175000   565000   120000   725000   185000\n",
            "   615000   270000   625000   866000   375000   522000   451999   475000\n",
            "   780000   595000  1140000   360000   105000   135000   690000  3975000\n",
            "  5150000  3200000  4100000  4500000  6000000  3790000  5800000  1864999\n",
            "  2700000   795000  3400000  2650000  5850000   975000   805000  2625000\n",
            "   811000   550000   645000  2550000   599000   875000   894999   340000\n",
            "  1525000  2150000  1900000  2900000 10000000   160000   515000    40000\n",
            "   480000   487000   386000   100000   490000   345000    85000   215000\n",
            "   320000   459999    65000   720000   800000   520000   580000   420000\n",
            "  1250000   830000   335000   329000   775000   524000   245000   910000\n",
            "   900000   250000  1100000   640000   409999   165000    80000  1000000\n",
            "   110000   170000  1380000  1300000   530000   310000  1150000   380000\n",
            "   404000   114999   465000   210000  4600000   509999    90000   409000\n",
            "   395000    81000   555000   229999  1210000   325000    60000    89000\n",
            "   434999  3000000   570000  1550000    64000   140000   503000  3800000\n",
            "  2000000   740000   750000  5400000  5500000   779000  2475000   240000\n",
            "  1085000    95000  1290000   219000   260000   840000   292000   385000\n",
            "  1050000   735000   560000   585000   760000   430000   643000   285000\n",
            "   660000   268000    88000   561000   755000   125000  1600000   801000\n",
            "   317000   495000   236000  1800000   415000   217000   466000   605000\n",
            "  1350000   337000   655000   196000   299000   634000  1225000   238000\n",
            "   590000   195000   715000   168000   531000  1625000   145000   441000\n",
            "    67500   321000   298000  1075000   681000   810000   573000   101000\n",
            "  1019999   244000  1165000   241000   327000   620000   204999   576000\n",
            "   695000   231000   261000   371000   421000   710000  1040000   199000\n",
            "   305000  1745000   611000    75000    55000  1325000   885000   108000\n",
            "   272000  1125000   388000   757000   626000   793000  3750000  1400000\n",
            "  1925000   844999  2940000  1825000   890000   770000   467000   711000\n",
            "   511000   166000   392000   833000    35000   880000  1030000   521000\n",
            "   451000   472000   649000   429000  1576000   825000   470000  1560000\n",
            "  1950000   786000   731000   191000   651000   445000    93150   403000\n",
            "   144000    52000   302000   869999   155000   246000   405000    70000\n",
            "  3250000  1143000   635000  1575000   318000   152000   248000  1465000\n",
            "  1080000   678000  1460000   756000   665000  2950000   377000  1675000\n",
            "   169000   685000   749000   899000   259000   416000   773000   889000\n",
            "   118000   256000  1888000    99000  2280000    31504   295000   444000\n",
            "   860000  2450000   198000  2825000  2125000  3350000   365000   919999\n",
            "  2600000   839000  1594000   161000   423000   551000    50000   411000\n",
            "  1530000   376000  1850000    86000   822000    30000   252000   131000\n",
            "   128000   790000   604000  1175000   141000   151000   577000    83000\n",
            "   946000   356000   955000   978999   348000   399000   362000   499000\n",
            "   358000   278000   426000   211000  1270000   426999   960000  1031000\n",
            "    72000   479000   764000  2199000  3600000   184000   119000   267000\n",
            "   328000   112999    39000  2850000  2800000  3900000   221000   631000\n",
            "   308000   940000   361000   355000  7200000   930000  1670000   980000\n",
            "   486000   242000   654000   835000   408000    94500  1110000   438999\n",
            "   911999   693000   449000  1390000   698000   539000   765000   562000\n",
            "   571000   589000   227999  1151000  1295000  4090000   347000   493000\n",
            "   545000  1475000   287000  1630000   501000   181000  2711000  1035000\n",
            "   316000   813000  1190000   378000   156000   194000   754000    55599\n",
            "  1511000    78000   250999   312000    66000   369000   149000   752000\n",
            "   142000   111000   206000   567000   699000   632000   905000  1145000\n",
            "    58000   179000  1515000   178000   222000   387000  1405000   282000\n",
            "   458000   157000   497000  1227000   574000   121000  3100000    68000\n",
            "  1920000   808000   512000   671000   799000  1365000  1490000    80500\n",
            "   189000   892000    93000  1680000   667000   204000    42000   694000\n",
            "   861999   476999  5200000  2375000  2750000  1385000   785000  1275000\n",
            "  1748999   132000    33351  2064000   469000   906000   797000  6223000\n",
            "  5923000  6523000   122000   891000   346000   532000   974000   483000\n",
            "   138000   432000  1757000   412000   126000   736000   579000   187000\n",
            "  4000000  1898999   482000   401000   737000   291000   999000   957000\n",
            "   834000   297000   669000   616000   129000   115999   861000  3251000\n",
            "   911000   148000   433000   488000    67000   516000   136000    29999\n",
            "   124000  1938000   172000    59000  3500000   537000   849000   851000\n",
            "   597000   741000   556000   549000   679000   969999  1237000    31000\n",
            "   666000    54000   374000   455999   453000   258000   428000   262000\n",
            "   389000   339000   277000   578000   684000   949000   227000  5830000\n",
            "   721000   751000  2400000   990000  1282000  1147000   558000   722000\n",
            "   563000  2300000  2200000   488999   276000   434000   372000  1520000\n",
            "   202999   541000   254000   528000   102000   311000   977000  1251000\n",
            "  1445000    98000    59259   153000  1051000   591000   319000   454000\n",
            "  1160000  3300000   791000   802999  1789999  1044999   279000   944999\n",
            "  1859000  2175000   430999   803999   934000   357000   965000   341000\n",
            "    75527  1132000   352000   252999   313000   391000  2051000   212000\n",
            "  2575000  1516000   359000   209000  1220000  1180000    45957  1265000\n",
            "   382000   526000    90177    46000   307000   746000]\n",
            "---------------------------------------------------------------\n",
            "Unique vaules ofkm_driven\n",
            "[ 145500  120000  140000  127000   45000  175000    5000   90000  169000\n",
            "   68000  100000   40000   70000   53000   80000   50000   72000   35000\n",
            "   28000   25000    2388   16200   10000   15000   42000   60000   76000\n",
            "   28900   86300   23300   32600   10300   77000   99000   27800   49800\n",
            "  151000   54700   64000   63000  127700   33900   59000  110000  147000\n",
            "   30000  135000    9850   78000  170000   49000   32000   38000   44000\n",
            "   12000   55500   61500  150000   37800  114000   48000   69000   13000\n",
            "   76139   65000    1303   31800   20000   17000   21000   37000   29500\n",
            "    7500   19000   41000   39000   22000   47000   72200   49900    9000\n",
            "   11000   95000   18000   46100   16000    9654   24300   42163    8000\n",
            "   71000    9500   36600   14000  120600   86000    7800   31377   75000\n",
            "   93000  125000   13500  162500   92500  158000    2000  181000  193000\n",
            "  122358   95200   33033   63063  207890    7976   16500   99361   33000\n",
            "   80100  160000   26000   29000   58000   36000  185000  162000   67000\n",
            "   52000   68089   58343   38817   56494   79328    5621   25538   69779\n",
            "   56290    8500    7032  106000  240000  214000    1000  265000  134000\n",
            "    2136  250000  130000   99500  119000   44665  123000   34000  146000\n",
            "   85000  201850   46000  190000   43000   14200   19100   54000  101500\n",
            "   55735    1500  181491   53319   40906   31711   43755   66693   59549\n",
            "   94385   73730  221889  116104  150546  148120  142000  126000   24000\n",
            "  101000  168000  165000   98500   98000   77800   51492  136000   91000\n",
            "  167000  180000    6000   91500  132478   51000  105000  137500   88000\n",
            "  156060  107000   57000  300000  200000   18945  144000  107825    1620\n",
            "  141000  108000   55000   37944   90400   96000  193623   63186  219000\n",
            "   23000   94000  140500  143000  195000  360003    8079  114368   79990\n",
            "   81632  155201  101504   90165   86017   85036  125531  206000   49700\n",
            "   74000    6550   56000   41779   31000   13534    7000   28156   63309\n",
            "  155000   11500    3000  157000   27000   26300   89100  104000  210000\n",
            "  216000   84000  161000   72113  113000   96443   51500  104500   49102\n",
            "   81000  227000  117000    8576   19723   21446   52289   52236   54470\n",
            "   25471   33928   59736   54290    2118   61379   58544   74381   63982\n",
            "   56429   19500   56832   30528   65285   20102   52380   74250   57247\n",
            "  178000   42323   42462   54723   42545   20375   43978   40200   27233\n",
            "   28832  103000  142500  115000   35500   17500   92000    4500   83000\n",
            "    6750   18500   50478    9200    2300    4295    5229    4701    6757\n",
            "   28182   11533   11688   57728   23712   70670   43381   79011   58500\n",
            "   43500   12700   49455   46815  334000  100875  118000  128000  144030\n",
            "  176000   89000   97000   12800   65100   15200   82000  116500  145000\n",
            "   73000  113226  160500  132000  217000  139000    3500   62000 1500000\n",
            "  120005   16830   93468   16589   53201   25272   53619    6001  202000\n",
            "   71717   84321  177000  205000   41800   88700  188000  225000    5500\n",
            "    4875    2700   58511   26235   26766    1600   24522   13663   58945\n",
            "  375000  156975   27620  143200  138000  189000  156000   10800   67500\n",
            "  255000   71850  112000  159000   76131   51777   64788   46951   74537\n",
            "   23500   68600   13887   66000   24400   27500   67840  380000  112880\n",
            "   61915  184000    6200   16700    7967    9656   68609   33360   14317\n",
            "   87237   62960   26634  163720   67998   20706  100581   67303   79139\n",
            "   84784  130376   33500   22053   78432  270000    7200  117500   78500\n",
            "  115717    4000   26432   46702   46706   53523   56365   49563   56432\n",
            "   52365   53512   46533   58632   65300   39395  230000   32500   64800\n",
            "  248000   66444  218463  153000   87185  137000    3564   48756   80322\n",
            "  173000  148000    6500  220000  108957   22200  260000   42108   79000\n",
            "   17100   43001  100600   92385  116000   72500   82500   50600  121000\n",
            "  101903   85568    3100  186000   59300   89322   48300   23511   22512\n",
            "   62900   52442   34156   34152   62841   38600   27654   48698   32995\n",
            "   90150   85700   25339   41232   68240   92651   88754   23700   69500\n",
            "   28050   22947    7672   36659   44500    9900  124316    6544   49600\n",
            "  198000  103994   35008   31100   42312   54891   18890   75010    4337\n",
            "   14495   83585   48406   56239   33243   15858   87847   87000  112072\n",
            "   52269   15780 2360457  108800   12500  577414  121941  152186   82246\n",
            "   89580    2789   35278    2860   78562   36088  129000  500000  133000\n",
            "   64500   24500   45500   71500   93500   60300   44391   56315   15151\n",
            "  114321   37333  330000  291000   21500  197000   40300   30030   29029\n",
            "   72072   82082   80600   58609   33003  165500    5800   68700  102996\n",
            "   96500   52412   85472   87452   66530   32331  172000   23456  136500\n",
            "  111000   42500   47200  246000    5200   10500   93331  109000    5400\n",
            "  102000   29700    7600   29340   80800   24265   56900   88200   40800\n",
            "    8588  305000  212000  101200  179150   84487  264000   51146  298000\n",
            "  149000  291977   36800   52200  248200    7720   57882  242000   55380\n",
            "   18816   33019   47747   45900   68697  147279   24700   43526   55885\n",
            "   16034  156040   93415  122000   68519   22966    2350   59872   91182\n",
            "   59500   75500  152500   69123   77524   40523   23600  290000   24177\n",
            "  121779   15381   74800  109322  475000   61000   80500   65755    2600\n",
            "   15500   50700  440000  152000  200400    7300    9750  157138  285000\n",
            "  127991   13120   87500   62200   87540  231438  239451  154000  426000\n",
            "  182000  215000   77300   61260   17601    4773   57900    8600   78010\n",
            "   83844   23999   91400  178500   66953  166000  131000  100750   48676\n",
            "   79500  200185   49025   76460   47370   45217  222300   44600   28080\n",
            "   28800   21900   28100    7673   96272   22500    7400  370000  150360\n",
            "   42130  147500   56194   54188   54043   66657   35582   54327    7949\n",
            "   59734   49185   56389   58245   36422   42535   40736   56246   55403\n",
            "  105358   49200   81500    3177   39414   30078   44588   49907   67082\n",
            "  112879   10200    1300  175802  192000   73840  320000   24857   26442\n",
            "   50800   40142    9400   12584    4300   14548   44772   48500   28782\n",
            "   28451   36500   44885  131111   58400   23400    3010  163000   77088\n",
            "  136511   36710   28180   44077   55768  123278   26500   18484    2560\n",
            "  103655   56975  187000  218000   73257   26320   38426  116700  176062\n",
            "   77500   39500   55896   30400  164000  271000   75262   91863   47552\n",
            "   14700   19700  145241   95500   53473   75958   31596   85710  129627\n",
            "   55130   22522   51856   29434   34500    6825  112011   53534  248119\n",
            "   24019   19600  376412  183000  108916   59865   68140   53190   70100\n",
            "   47725   70195   77395   74321   80235   77150   61100   82300   82050\n",
            "   29899   59235  201000   77215   48228   58559   50856   18300   59292\n",
            "   21147   61173   91567   33400   92686   67600   49500  112048   30646\n",
            "   43011  104300   73500  280000   35700   22700   21871   55425   37659\n",
            "   37500   19800   45629   68850   45775   68203   97343   82507   59400\n",
            "  125876   56800   65204    2286   15732   49523   36521   64481   49060\n",
            "   37161   60175   49957   43235   50699       1   50074   30154   26263\n",
            "   84925   46357   46737  110048  186388   20171   37151   58161   50171\n",
            "   55161    9599   16151   28161   80868  194000  191000]\n",
            "---------------------------------------------------------------\n",
            "Unique vaules offuel\n",
            "['Diesel' 'Petrol' 'LPG' 'CNG']\n",
            "---------------------------------------------------------------\n",
            "Unique vaules ofseller_type\n",
            "['Individual' 'Dealer' 'Trustmark Dealer']\n",
            "---------------------------------------------------------------\n",
            "Unique vaules oftransmission\n",
            "['Manual' 'Automatic']\n",
            "---------------------------------------------------------------\n",
            "Unique vaules ofowner\n",
            "['First Owner' 'Second Owner' 'Third Owner' 'Fourth & Above Owner'\n",
            " 'Test Drive Car']\n",
            "---------------------------------------------------------------\n",
            "Unique vaules ofmileage\n",
            "[23.4  21.14 17.7  23.   16.1  20.14 17.3  23.59 20.   19.01 19.3  18.9\n",
            " 18.15 24.52 19.7  22.54 21.   25.5  26.59 21.5  20.3  21.4  24.7  18.2\n",
            " 16.8  24.3  14.   18.6  33.44 23.95 17.   20.63 13.93 16.   17.8  18.5\n",
            " 12.55 12.99 14.8  13.5  26.   20.65 27.3  11.36 17.68 14.28 18.53 14.84\n",
            " 21.12 20.36 21.27 18.16 22.   25.1  20.51 21.66 25.2  22.9  16.02 20.54\n",
            " 22.77 15.71 23.1  19.02 19.81 26.2  16.47 15.04 19.1  21.79 18.8  21.21\n",
            " 15.37 11.79 19.   14.3  15.8  15.1  19.09 22.32 21.9  14.53 21.63 20.85\n",
            " 20.45 19.67 23.01 20.77 17.92 17.01 22.37 19.33  9.5  12.83 22.48 16.78\n",
            " 14.67 15.   13.96 18.   12.07 26.21 10.8  16.3  13.6  14.74 15.6  19.56\n",
            " 22.69 19.16 18.12 12.1  17.5  42.   20.4  21.1  19.44 13.   21.43 22.95\n",
            " 16.2  15.3  28.09 17.4  19.4  26.6  17.6  28.4  14.1  25.17 22.74 17.57\n",
            " 16.95 19.49 17.21 13.2  14.2  26.8  25.4  11.5  27.28 17.97 12.8  16.55\n",
            " 12.05 14.07 21.02 11.57 17.9  15.96 17.1  17.19 21.01 24.   25.6  21.38\n",
            " 23.84 23.08 14.24 20.71 15.64 14.5  16.34 27.39 11.1  13.9  20.88 20.92\n",
            " 23.8  24.4  15.29 21.19 22.5  19.6  23.65 25.32 23.5  16.6  23.9  20.8\n",
            " 27.62 12.9  25.44 17.88 22.7  17.2  15.42 19.68 18.7  15.4  19.34 22.71\n",
            " 25.8  13.7  12.2  18.49  9.    0.   13.58 10.1  20.5  25.   10.5  22.07\n",
            " 22.3  15.26 20.62 27.4  23.2  14.4  18.4  30.46 14.02 11.   20.6  22.05\n",
            " 20.2  18.1  22.1  19.87 13.01 18.06 26.1  16.52 13.55 24.2  25.83 11.2\n",
            " 17.09 21.03 17.45 21.64 21.94 13.87 19.98 20.52 23.57 11.7  17.43 18.88\n",
            " 13.68 11.18 20.89 11.8  19.62 21.7  14.9  19.5  10.91 15.7  20.73 15.85\n",
            " 20.7  14.23 16.5  17.36 12.6  16.36 14.95 16.9  19.2  16.96 22.15 18.78\n",
            " 19.61 17.71 18.3  19.12 19.72 12.   11.4  23.03 11.07 15.9  17.67 20.46\n",
            " 13.1  13.45 24.8  15.73 15.11 12.7  21.2  20.38 21.56 13.22 14.49 15.05\n",
            " 23.26 15.41 13.8  22.27 32.52 14.66 12.12 16.84 14.09 14.7  13.4  15.5\n",
            " 13.49 11.88 14.6  10.75 24.5  11.74 16.07 15.63 26.3  23.7  25.47 17.05\n",
            " 23.3  11.9  13.38 20.86 10.9  18.25 15.2  20.37 21.8  11.96 24.04 19.69\n",
            " 13.73 21.04 25.01 10.93 24.29 13.44 20.07 19.08 20.34 11.68 12.5  12.3\n",
            " 23.87 16.38 17.42 10.   18.24 10.71 19.59 16.7  19.83 21.76 16.05 20.28\n",
            " 16.25 16.73 18.48 14.99 18.76 16.4  19.64 14.94 17.11 22.8  32.26 33.\n",
            " 12.4  18.44 16.09 12.62 21.13 15.17 21.73 21.72 12.85 14.81 13.24 21.49\n",
            " 14.62 26.83 11.45 12.08 15.74 11.3  14.21 11.72 16.51]\n",
            "---------------------------------------------------------------\n",
            "Unique vaules ofengine\n",
            "[1248. 1498. 1497. 1396. 1298. 1197. 1061.  796. 1364. 1399. 1461.  993.\n",
            " 1198. 1199.  998. 1591. 2179. 1368. 2982. 2494. 2143. 2477. 1462. 2755.\n",
            " 1968. 1798. 1196. 1373. 1598. 1998. 1086. 1194. 1172. 1405. 1582.  999.\n",
            " 2487. 1999. 3604. 2987. 1995. 1451. 1969. 2967. 2497. 1797. 1991. 2362.\n",
            " 1493. 1599. 1341. 1794.  799. 1193. 2696. 1495. 1186. 1047. 2498. 2956.\n",
            " 2523. 1120.  624. 1496. 1984. 2354.  814.  793. 1799.  936. 1956. 1997.\n",
            " 1499. 1948. 2997. 2489. 2499. 2609. 2953. 1150. 1994. 1388. 1527. 2199.\n",
            "  995. 2993. 1586. 1390.  909. 2393. 3198. 1339. 2835. 2092. 1595. 2496.\n",
            " 1596. 1597. 2596. 2148. 1299. 1590. 2231. 2694. 2200. 1795. 1896. 1796.\n",
            " 1422. 1489. 2359. 2197. 2999. 1781. 2650. 1343. 2446. 3498. 2198. 2776.\n",
            " 1950.]\n",
            "---------------------------------------------------------------\n",
            "Unique vaules ofmax_power\n",
            "[ 74.    103.52   78.     90.     88.2    81.86   57.5    37.     67.1\n",
            "  68.1   108.45   60.     73.9    67.     82.     88.5    46.3    88.73\n",
            "  64.1    98.6    88.8    83.81   83.1    47.3    73.8    34.2    35.\n",
            "  81.83   40.3   121.3   138.03  160.77  117.3   116.3    83.14   67.05\n",
            " 168.5   100.    120.7    98.63  175.56  103.25  171.5   100.6   174.33\n",
            " 187.74  170.     78.9    88.76   86.8   108.495 108.62   93.7   103.6\n",
            "  98.59  189.     67.04   68.05   58.2    82.85   81.8    73.    120.\n",
            "  94.68  160.     65.    155.     69.01  126.32  138.1    83.8   126.2\n",
            "  98.96   62.1    86.7   188.    214.56  177.    280.    148.31  254.79\n",
            " 190.    177.46  204.    141.    117.6   241.4   282.    150.    147.5\n",
            " 108.5   103.5   183.    181.04  157.7   164.7    91.1   400.     68.\n",
            "  75.     85.8    87.2    53.    118.    103.2    83.     84.     58.16\n",
            " 147.94   74.02   53.3    80.     88.7    97.7   121.36  162.    140.\n",
            "  94.    100.57   82.9    83.11   70.    153.86  121.    126.3    73.97\n",
            " 171.     69.     99.6   102.    105.     63.     79.4    97.9    63.1\n",
            "  66.1   110.    174.5    53.26   73.75   67.06   64.08   37.5   189.3\n",
            " 158.8    61.7    55.2    71.01   73.74  147.9    71.     77.    121.4\n",
            " 113.4    47.    130.     57.6   138.     52.8    53.64   53.5    76.8\n",
            "  82.4   113.42   76.     84.8    56.3   218.    112.     92.    105.5\n",
            " 169.     95.     72.4   115.    152.     91.2   156.     74.9    62.\n",
            " 105.3    73.94   85.    118.3    72.    147.51   58.     64.    126.24\n",
            "  76.9   194.3    99.23   89.84  123.7   118.35   99.    241.    136.\n",
            " 261.4   104.68   37.48  104.     63.12   91.7   102.5   177.6    45.\n",
            " 123.37  147.8   184.     84.48   68.07   74.96  167.6   152.87  112.2\n",
            "  83.83  197.    110.4   104.55  103.    103.3    66.    108.6   165.\n",
            " 163.7   116.9    94.93  127.    198.5   179.5   120.69  121.31  138.08\n",
            " 187.7    80.8    86.79   93.87  116.6   143.     92.7    88.     58.33\n",
            "  78.8    64.4   125.    139.01  254.8   181.    258.     55.23  270.9\n",
            " 265.    157.75  101.    186.    187.4   224.     64.9   148.     35.5\n",
            "  89.75   32.8    91.72  106.     98.97   66.6    86.     65.3    98.82\n",
            " 198.25   38.    142.    132.    174.57  178.    163.2   203.2   177.5\n",
            " 175.     57.     80.84   68.4   167.67  170.63   52.    149.5    48.21\n",
            "   0.    201.1   100.5   144.    194.4   168.7   104.5   103.26  116.4\n",
            "  98.79   80.9    58.3   272.    235.    167.62  170.3   139.46  158.\n",
            " 110.5    82.5   141.1    38.4   197.2   161.    194.    122.4   134.1\n",
            "  60.2   134.    203.    135.1  ]\n",
            "---------------------------------------------------------------\n",
            "Unique vaules ofseats\n",
            "[ 5.  4.  7.  8.  6.  9. 10. 14.  2.]\n",
            "---------------------------------------------------------------\n"
          ]
        }
      ]
    },
    {
      "cell_type": "code",
      "source": [
        "\n",
        "# Encode categorical variables with numerical values\n",
        "car_data['name'].replace({\n",
        "    'Maruti': 1, 'Skoda': 2, 'Honda': 3, 'Hyundai': 4, 'Toyota': 5, 'Ford': 6, 'Renault': 7,\n",
        "    'Mahindra': 8, 'Tata': 9, 'Chevrolet': 10, 'Datsun': 11, 'Jeep': 12, 'Mercedes-Benz': 13,\n",
        "    'Mitsubishi': 14, 'Audi': 15, 'Volkswagen': 16, 'BMW': 17, 'Nissan': 18, 'Lexus': 19,\n",
        "    'Jaguar': 20, 'Land': 21, 'MG': 22, 'Volvo': 23, 'Daewoo': 24, 'Kia': 25, 'Fiat': 26,\n",
        "    'Force': 27, 'Ambassador': 28, 'Ashok': 29, 'Isuzu': 30, 'Opel': 31\n",
        "}, inplace=True)\n"
      ],
      "metadata": {
        "id": "SgcsOlA8zhgw"
      },
      "execution_count": 7,
      "outputs": []
    },
    {
      "cell_type": "code",
      "source": [
        "\n",
        "car_data['transmission'].replace({'Manual': 1, 'Automatic': 2}, inplace=True)\n",
        "car_data['seller_type'].replace({'Individual': 1, 'Dealer': 2, 'Trustmark Dealer': 3}, inplace=True)\n",
        "car_data['fuel'].replace({'Diesel': 1, 'Petrol': 2, 'LPG': 3, 'CNG': 4}, inplace=True)\n",
        "car_data['owner'].replace({'First Owner': 1, 'Second Owner': 2, 'Third Owner': 3, 'Fourth & Above Owner': 4,\n",
        "                            'Test Drive Car': 5}, inplace=True)\n"
      ],
      "metadata": {
        "id": "YbbeICM8zk9a"
      },
      "execution_count": 8,
      "outputs": []
    },
    {
      "cell_type": "code",
      "source": [
        "\n",
        "# Reset index\n",
        "car_data.reset_index(drop=True, inplace=True)\n"
      ],
      "metadata": {
        "id": "UDUtlk6aznzA"
      },
      "execution_count": 9,
      "outputs": []
    },
    {
      "cell_type": "code",
      "source": [
        "\n",
        "# Visualize some data\n",
        "plt.figure(figsize=(12, 6))\n"
      ],
      "metadata": {
        "colab": {
          "base_uri": "https://localhost:8080/",
          "height": 52
        },
        "id": "x9qm18C_zqwJ",
        "outputId": "028cf0f1-ca39-413e-aacb-966ae49f6472"
      },
      "execution_count": 10,
      "outputs": [
        {
          "output_type": "execute_result",
          "data": {
            "text/plain": [
              "<Figure size 1200x600 with 0 Axes>"
            ]
          },
          "metadata": {},
          "execution_count": 10
        },
        {
          "output_type": "display_data",
          "data": {
            "text/plain": [
              "<Figure size 1200x600 with 0 Axes>"
            ]
          },
          "metadata": {}
        }
      ]
    },
    {
      "cell_type": "code",
      "source": [
        "\n",
        "# Histogram of selling price\n",
        "plt.subplot(2, 2, 1)\n",
        "sns.histplot(car_data['selling_price'], bins=20, kde=True, color='skyblue')\n",
        "plt.title('Histogram of Selling Price')\n"
      ],
      "metadata": {
        "colab": {
          "base_uri": "https://localhost:8080/",
          "height": 287
        },
        "id": "Pa1GlF6Pzt7G",
        "outputId": "e946a329-15df-48a6-bfe1-6cc752547f83"
      },
      "execution_count": 11,
      "outputs": [
        {
          "output_type": "execute_result",
          "data": {
            "text/plain": [
              "Text(0.5, 1.0, 'Histogram of Selling Price')"
            ]
          },
          "metadata": {},
          "execution_count": 11
        },
        {
          "output_type": "display_data",
          "data": {
            "text/plain": [
              "<Figure size 640x480 with 1 Axes>"
            ],
            "image/png": "[encoded data removed]"
          },
          "metadata": {}
        }
      ]
    },
    {
      "cell_type": "code",
      "source": [
        "\n",
        "# Scatter plot of year vs selling price\n",
        "plt.subplot(2, 2, 2)\n",
        "sns.scatterplot(x='year', y='selling_price', data=car_data, color='green')\n",
        "plt.title('Year vs Selling Price')\n"
      ],
      "metadata": {
        "colab": {
          "base_uri": "https://localhost:8080/",
          "height": 287
        },
        "id": "RZ3Qh5Ebzxjb",
        "outputId": "8edbb359-e2bb-4ca5-9296-b4202b1a097b"
      },
      "execution_count": 12,
      "outputs": [
        {
          "output_type": "execute_result",
          "data": {
            "text/plain": [
              "Text(0.5, 1.0, 'Year vs Selling Price')"
            ]
          },
          "metadata": {},
          "execution_count": 12
        },
        {
          "output_type": "display_data",
          "data": {
            "text/plain": [
              "<Figure size 640x480 with 1 Axes>"
            ],
            "image/png": "[encoded data removed]"
          },
          "metadata": {}
        }
      ]
    },
    {
      "cell_type": "code",
      "source": [
        "\n",
        "# Boxplot of transmission type vs selling price\n",
        "plt.subplot(2, 2, 3)\n",
        "sns.boxplot(x='transmission', y='selling_price', data=car_data)\n",
        "plt.title('Transmission vs Selling Price')\n"
      ],
      "metadata": {
        "colab": {
          "base_uri": "https://localhost:8080/",
          "height": 302
        },
        "id": "s2lKBZfxz0rO",
        "outputId": "4e79770e-12d6-441b-b5a3-96193018be1a"
      },
      "execution_count": 13,
      "outputs": [
        {
          "output_type": "execute_result",
          "data": {
            "text/plain": [
              "Text(0.5, 1.0, 'Transmission vs Selling Price')"
            ]
          },
          "metadata": {},
          "execution_count": 13
        },
        {
          "output_type": "display_data",
          "data": {
            "text/plain": [
              "<Figure size 640x480 with 1 Axes>"
            ],
            "image/png": "[encoded data removed]"
          },
          "metadata": {}
        }
      ]
    },
    {
      "cell_type": "code",
      "source": [
        "\n",
        "# Barplot of fuel type vs selling price\n",
        "plt.subplot(2, 2, 4)\n",
        "sns.barplot(x='fuel', y='selling_price', data=car_data)\n",
        "plt.title('Fuel Type vs Selling Price')\n",
        "\n",
        "plt.tight_layout()\n",
        "plt.show()\n"
      ],
      "metadata": {
        "colab": {
          "base_uri": "https://localhost:8080/",
          "height": 287
        },
        "id": "Gec1y9iRz4UY",
        "outputId": "9969d851-10a0-4109-ebb4-3024c95da2f5"
      },
      "execution_count": 14,
      "outputs": [
        {
          "output_type": "display_data",
          "data": {
            "text/plain": [
              "<Figure size 640x480 with 1 Axes>"
            ],
            "image/png": "[encoded data removed]"
          },
          "metadata": {}
        }
      ]
    },
    {
      "cell_type": "code",
      "source": [
        "\n",
        "# Separate input and output data\n",
        "X = car_data.drop(columns=['selling_price'])\n",
        "y = car_data['selling_price']\n"
      ],
      "metadata": {
        "id": "qN7n6fluz70W"
      },
      "execution_count": 15,
      "outputs": []
    },
    {
      "cell_type": "code",
      "source": [
        "\n",
        "# Split the data into training and testing sets\n",
        "X_train, X_test, y_train, y_test = train_test_split(X, y, test_size=0.2)\n"
      ],
      "metadata": {
        "id": "H9RJPAG0z-2t"
      },
      "execution_count": 16,
      "outputs": []
    },
    {
      "cell_type": "code",
      "source": [
        "\n",
        "# Initialize and train the linear regression model\n",
        "model = LinearRegression()\n",
        "model.fit(X_train, y_train)\n"
      ],
      "metadata": {
        "colab": {
          "base_uri": "https://localhost:8080/",
          "height": 74
        },
        "id": "3CllBkrM0Beg",
        "outputId": "b149a0c1-f0b8-4d27-871f-c59cb9a7dd3b"
      },
      "execution_count": 17,
      "outputs": [
        {
          "output_type": "execute_result",
          "data": {
            "text/plain": [
              "LinearRegression()"
            ],
            "text/html": [
              "<style>#sk-container-id-1 {color: black;background-color: white;}#sk-container-id-1 pre{padding: 0;}#sk-container-id-1 div.sk-toggleable {background-color: white;}#sk-container-id-1 label.sk-toggleable__label {cursor: pointer;display: block;width: 100%;margin-bottom: 0;padding: 0.3em;box-sizing: border-box;text-align: center;}#sk-container-id-1 label.sk-toggleable__label-arrow:before {content: \"▸\";float: left;margin-right: 0.25em;color: #696969;}#sk-container-id-1 label.sk-toggleable__label-arrow:hover:before {color: black;}#sk-container-id-1 div.sk-estimator:hover label.sk-toggleable__label-arrow:before {color: black;}#sk-container-id-1 div.sk-toggleable__content {max-height: 0;max-width: 0;overflow: hidden;text-align: left;background-color: #f0f8ff;}#sk-container-id-1 div.sk-toggleable__content pre {margin: 0.2em;color: black;border-radius: 0.25em;background-color: #f0f8ff;}#sk-container-id-1 input.sk-toggleable__control:checked~div.sk-toggleable__content {max-height: 200px;max-width: 100%;overflow: auto;}#sk-container-id-1 input.sk-toggleable__control:checked~label.sk-toggleable__label-arrow:before {content: \"▾\";}#sk-container-id-1 div.sk-estimator input.sk-toggleable__control:checked~label.sk-toggleable__label {background-color: #d4ebff;}#sk-container-id-1 div.sk-label input.sk-toggleable__control:checked~label.sk-toggleable__label {background-color: #d4ebff;}#sk-container-id-1 input.sk-hidden--visually {border: 0;clip: rect(1px 1px 1px 1px);clip: rect(1px, 1px, 1px, 1px);height: 1px;margin: -1px;overflow: hidden;padding: 0;position: absolute;width: 1px;}#sk-container-id-1 div.sk-estimator {font-family: monospace;background-color: #f0f8ff;border: 1px dotted black;border-radius: 0.25em;box-sizing: border-box;margin-bottom: 0.5em;}#sk-container-id-1 div.sk-estimator:hover {background-color: #d4ebff;}#sk-container-id-1 div.sk-parallel-item::after {content: \"\";width: 100%;border-bottom: 1px solid gray;flex-grow: 1;}#sk-container-id-1 div.sk-label:hover label.sk-toggleable__label {background-color: #d4ebff;}#sk-container-id-1 div.sk-serial::before {content: \"\";position: absolute;border-left: 1px solid gray;box-sizing: border-box;top: 0;bottom: 0;left: 50%;z-index: 0;}#sk-container-id-1 div.sk-serial {display: flex;flex-direction: column;align-items: center;background-color: white;padding-right: 0.2em;padding-left: 0.2em;position: relative;}#sk-container-id-1 div.sk-item {position: relative;z-index: 1;}#sk-container-id-1 div.sk-parallel {display: flex;align-items: stretch;justify-content: center;background-color: white;position: relative;}#sk-container-id-1 div.sk-item::before, #sk-container-id-1 div.sk-parallel-item::before {content: \"\";position: absolute;border-left: 1px solid gray;box-sizing: border-box;top: 0;bottom: 0;left: 50%;z-index: -1;}#sk-container-id-1 div.sk-parallel-item {display: flex;flex-direction: column;z-index: 1;position: relative;background-color: white;}#sk-container-id-1 div.sk-parallel-item:first-child::after {align-self: flex-end;width: 50%;}#sk-container-id-1 div.sk-parallel-item:last-child::after {align-self: flex-start;width: 50%;}#sk-container-id-1 div.sk-parallel-item:only-child::after {width: 0;}#sk-container-id-1 div.sk-dashed-wrapped {border: 1px dashed gray;margin: 0 0.4em 0.5em 0.4em;box-sizing: border-box;padding-bottom: 0.4em;background-color: white;}#sk-container-id-1 div.sk-label label {font-family: monospace;font-weight: bold;display: inline-block;line-height: 1.2em;}#sk-container-id-1 div.sk-label-container {text-align: center;}#sk-container-id-1 div.sk-container {/* jupyter's `normalize.less` sets `[hidden] { display: none; }` but bootstrap.min.css set `[hidden] { display: none !important; }` so we also need the `!important` here to be able to override the default hidden behavior on the sphinx rendered scikit-learn.org. See: https://github.com/scikit-learn/scikit-learn/issues/21755 */display: inline-block !important;position: relative;}#sk-container-id-1 div.sk-text-repr-fallback {display: none;}</style><div id=\"sk-container-id-1\" class=\"sk-top-container\"><div class=\"sk-text-repr-fallback\"><pre>LinearRegression()</pre><b>In a Jupyter environment, please rerun this cell to show the HTML representation or trust the notebook. <br />On GitHub, the HTML representation is unable to render, please try loading this page with nbviewer.org.</b></div><div class=\"sk-container\" hidden><div class=\"sk-item\"><div class=\"sk-estimator sk-toggleable\"><input class=\"sk-toggleable__control sk-hidden--visually\" id=\"sk-estimator-id-1\" type=\"checkbox\" checked><label for=\"sk-estimator-id-1\" class=\"sk-toggleable__label sk-toggleable__label-arrow\">LinearRegression</label><div class=\"sk-toggleable__content\"><pre>LinearRegression()</pre></div></div></div></div></div>"
            ]
          },
          "metadata": {},
          "execution_count": 17
        }
      ]
    },
    {
      "cell_type": "code",
      "source": [
        "\n",
        "# Make predictions\n",
        "predictions = model.predict(X_test)\n"
      ],
      "metadata": {
        "id": "_O_T8JmY0Dry"
      },
      "execution_count": 18,
      "outputs": []
    },
    {
      "cell_type": "code",
      "source": [
        "\n",
        "# Create a sample input data for testing the model\n",
        "sample_data = pd.DataFrame([[5, 2022, 12000, 1, 1, 1, 1, 12.99, 2494.0, 100.6, 5.0]],\n",
        "                           columns=['name', 'year', 'km_driven', 'fuel', 'seller_type', 'transmission', 'owner',\n",
        "                                    'mileage', 'engine', 'max_power', 'seats'])\n"
      ],
      "metadata": {
        "id": "wE0bhxgi0FfV"
      },
      "execution_count": 19,
      "outputs": []
    },
    {
      "cell_type": "code",
      "source": [
        "# Make prediction using the sample input data\n",
        "sample_prediction = model.predict(sample_data)\n"
      ],
      "metadata": {
        "id": "7sDjWs7m0HpM"
      },
      "execution_count": 20,
      "outputs": []
    },
    {
      "cell_type": "code",
      "source": [
        "\n",
        "# Save the model to a file using pickle\n",
        "with open('car_price_model.pkl', 'wb') as file:\n",
        "    pkl.dump(model, file)"
      ],
      "metadata": {
        "id": "wQaGQCfP0MKw"
      },
      "execution_count": 21,
      "outputs": []
    },
    {
      "cell_type": "code",
      "source": [
        "import os\n",
        "print(os.getcwd())\n"
      ],
      "metadata": {
        "id": "z753vZA54QtV",
        "outputId": "e0f88228-6faf-400a-af80-ca0c2d09a187",
        "colab": {
          "base_uri": "https://localhost:8080/"
        }
      },
      "execution_count": 22,
      "outputs": [
        {
          "output_type": "stream",
          "name": "stdout",
          "text": [
            "/content\n"
          ]
        }
      ]
    }
  ]
}